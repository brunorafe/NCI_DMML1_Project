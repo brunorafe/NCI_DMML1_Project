{
 "cells": [
  {
   "cell_type": "markdown",
   "metadata": {},
   "source": [
    "# Online News Popularity Dataset"
   ]
  },
  {
   "cell_type": "markdown",
   "metadata": {},
   "source": [
    "## Importing the necessary libraries"
   ]
  },
  {
   "cell_type": "code",
   "execution_count": 62,
   "metadata": {},
   "outputs": [],
   "source": [
    "# Libraries to work with the datasets\n",
    "import re\n",
    "import numpy as np\n",
    "import pandas as pd\n",
    "\n",
    "# Libraries to plot data\n",
    "import seaborn as sns\n",
    "import matplotlib.pyplot as plt\n",
    "%matplotlib inline"
   ]
  },
  {
   "cell_type": "markdown",
   "metadata": {},
   "source": [
    "- Importing the CSV resulting file of normalized data."
   ]
  },
  {
   "cell_type": "code",
   "execution_count": 63,
   "metadata": {},
   "outputs": [],
   "source": [
    "path = \"C:/Users/Bruno/Documents/GitHub/NCI_DMML1_Project/\"\n",
    "file_name = path + 'Results/OnlineNewsPopularity.csv'\n",
    "data = pd.read_csv(file_name)"
   ]
  },
  {
   "cell_type": "code",
   "execution_count": 64,
   "metadata": {},
   "outputs": [
    {
     "data": {
      "text/html": [
       "<div>\n",
       "<style scoped>\n",
       "    .dataframe tbody tr th:only-of-type {\n",
       "        vertical-align: middle;\n",
       "    }\n",
       "\n",
       "    .dataframe tbody tr th {\n",
       "        vertical-align: top;\n",
       "    }\n",
       "\n",
       "    .dataframe thead th {\n",
       "        text-align: right;\n",
       "    }\n",
       "</style>\n",
       "<table border=\"1\" class=\"dataframe\">\n",
       "  <thead>\n",
       "    <tr style=\"text-align: right;\">\n",
       "      <th></th>\n",
       "      <th>n_tokens_title</th>\n",
       "      <th>num_hrefs</th>\n",
       "      <th>average_token_length</th>\n",
       "      <th>is_weekend</th>\n",
       "      <th>global_sentiment_polarity</th>\n",
       "      <th>title_sentiment_polarity</th>\n",
       "      <th>shares</th>\n",
       "      <th>popularity</th>\n",
       "      <th>workday</th>\n",
       "      <th>data_channel_Entertainment</th>\n",
       "      <th>data_channel_Lifestyle</th>\n",
       "      <th>data_channel_Other</th>\n",
       "      <th>data_channel_Social Media</th>\n",
       "      <th>data_channel_Tech</th>\n",
       "      <th>data_channel_World</th>\n",
       "    </tr>\n",
       "  </thead>\n",
       "  <tbody>\n",
       "    <tr>\n",
       "      <th>0</th>\n",
       "      <td>12.0</td>\n",
       "      <td>4.0</td>\n",
       "      <td>4.680365</td>\n",
       "      <td>0.0</td>\n",
       "      <td>0.092562</td>\n",
       "      <td>-0.187500</td>\n",
       "      <td>593</td>\n",
       "      <td>Very Poor</td>\n",
       "      <td>1</td>\n",
       "      <td>1</td>\n",
       "      <td>0</td>\n",
       "      <td>0</td>\n",
       "      <td>0</td>\n",
       "      <td>0</td>\n",
       "      <td>0</td>\n",
       "    </tr>\n",
       "    <tr>\n",
       "      <th>1</th>\n",
       "      <td>13.0</td>\n",
       "      <td>19.0</td>\n",
       "      <td>4.682836</td>\n",
       "      <td>0.0</td>\n",
       "      <td>0.281003</td>\n",
       "      <td>0.136364</td>\n",
       "      <td>505</td>\n",
       "      <td>Very Poor</td>\n",
       "      <td>1</td>\n",
       "      <td>0</td>\n",
       "      <td>0</td>\n",
       "      <td>0</td>\n",
       "      <td>0</td>\n",
       "      <td>1</td>\n",
       "      <td>0</td>\n",
       "    </tr>\n",
       "    <tr>\n",
       "      <th>2</th>\n",
       "      <td>8.0</td>\n",
       "      <td>21.0</td>\n",
       "      <td>4.654167</td>\n",
       "      <td>0.0</td>\n",
       "      <td>0.268303</td>\n",
       "      <td>0.000000</td>\n",
       "      <td>556</td>\n",
       "      <td>Very Poor</td>\n",
       "      <td>1</td>\n",
       "      <td>0</td>\n",
       "      <td>1</td>\n",
       "      <td>0</td>\n",
       "      <td>0</td>\n",
       "      <td>0</td>\n",
       "      <td>0</td>\n",
       "    </tr>\n",
       "    <tr>\n",
       "      <th>3</th>\n",
       "      <td>9.0</td>\n",
       "      <td>9.0</td>\n",
       "      <td>5.296675</td>\n",
       "      <td>0.0</td>\n",
       "      <td>0.033333</td>\n",
       "      <td>0.000000</td>\n",
       "      <td>598</td>\n",
       "      <td>Very Poor</td>\n",
       "      <td>1</td>\n",
       "      <td>0</td>\n",
       "      <td>0</td>\n",
       "      <td>0</td>\n",
       "      <td>0</td>\n",
       "      <td>0</td>\n",
       "      <td>1</td>\n",
       "    </tr>\n",
       "    <tr>\n",
       "      <th>4</th>\n",
       "      <td>11.0</td>\n",
       "      <td>20.0</td>\n",
       "      <td>4.629983</td>\n",
       "      <td>0.0</td>\n",
       "      <td>0.268668</td>\n",
       "      <td>0.000000</td>\n",
       "      <td>445</td>\n",
       "      <td>Very Poor</td>\n",
       "      <td>1</td>\n",
       "      <td>0</td>\n",
       "      <td>0</td>\n",
       "      <td>0</td>\n",
       "      <td>0</td>\n",
       "      <td>1</td>\n",
       "      <td>0</td>\n",
       "    </tr>\n",
       "  </tbody>\n",
       "</table>\n",
       "</div>"
      ],
      "text/plain": [
       "    n_tokens_title   num_hrefs   average_token_length   is_weekend  \\\n",
       "0             12.0         4.0               4.680365          0.0   \n",
       "1             13.0        19.0               4.682836          0.0   \n",
       "2              8.0        21.0               4.654167          0.0   \n",
       "3              9.0         9.0               5.296675          0.0   \n",
       "4             11.0        20.0               4.629983          0.0   \n",
       "\n",
       "    global_sentiment_polarity   title_sentiment_polarity   shares  popularity  \\\n",
       "0                    0.092562                  -0.187500      593   Very Poor   \n",
       "1                    0.281003                   0.136364      505   Very Poor   \n",
       "2                    0.268303                   0.000000      556   Very Poor   \n",
       "3                    0.033333                   0.000000      598   Very Poor   \n",
       "4                    0.268668                   0.000000      445   Very Poor   \n",
       "\n",
       "    workday   data_channel_Entertainment   data_channel_Lifestyle  \\\n",
       "0         1                            1                        0   \n",
       "1         1                            0                        0   \n",
       "2         1                            0                        1   \n",
       "3         1                            0                        0   \n",
       "4         1                            0                        0   \n",
       "\n",
       "    data_channel_Other   data_channel_Social Media   data_channel_Tech  \\\n",
       "0                    0                           0                   0   \n",
       "1                    0                           0                   1   \n",
       "2                    0                           0                   0   \n",
       "3                    0                           0                   0   \n",
       "4                    0                           0                   1   \n",
       "\n",
       "    data_channel_World  \n",
       "0                    0  \n",
       "1                    0  \n",
       "2                    0  \n",
       "3                    1  \n",
       "4                    0  "
      ]
     },
     "execution_count": 64,
     "metadata": {},
     "output_type": "execute_result"
    }
   ],
   "source": [
    "data.head()"
   ]
  },
  {
   "cell_type": "code",
   "execution_count": 65,
   "metadata": {},
   "outputs": [
    {
     "name": "stdout",
     "output_type": "stream",
     "text": [
      "<class 'pandas.core.frame.DataFrame'>\n",
      "RangeIndex: 12849 entries, 0 to 12848\n",
      "Data columns (total 15 columns):\n",
      " #   Column                       Non-Null Count  Dtype  \n",
      "---  ------                       --------------  -----  \n",
      " 0    n_tokens_title              12849 non-null  float64\n",
      " 1    num_hrefs                   12849 non-null  float64\n",
      " 2    average_token_length        12849 non-null  float64\n",
      " 3    is_weekend                  12849 non-null  float64\n",
      " 4    global_sentiment_polarity   12849 non-null  float64\n",
      " 5    title_sentiment_polarity    12849 non-null  float64\n",
      " 6    shares                      12849 non-null  int64  \n",
      " 7    popularity                  12849 non-null  object \n",
      " 8    workday                     12849 non-null  int64  \n",
      " 9    data_channel_Entertainment  12849 non-null  int64  \n",
      " 10   data_channel_Lifestyle      12849 non-null  int64  \n",
      " 11   data_channel_Other          12849 non-null  int64  \n",
      " 12   data_channel_Social Media   12849 non-null  int64  \n",
      " 13   data_channel_Tech           12849 non-null  int64  \n",
      " 14   data_channel_World          12849 non-null  int64  \n",
      "dtypes: float64(6), int64(8), object(1)\n",
      "memory usage: 1.5+ MB\n"
     ]
    }
   ],
   "source": [
    "data.info()"
   ]
  },
  {
   "cell_type": "markdown",
   "metadata": {},
   "source": [
    "### Creating the variables to work with the models."
   ]
  },
  {
   "cell_type": "markdown",
   "metadata": {},
   "source": [
    "- Dependent variable: \"\".\n",
    "- Independent variables: ''."
   ]
  },
  {
   "cell_type": "code",
   "execution_count": 66,
   "metadata": {},
   "outputs": [],
   "source": [
    "X = data.drop([' shares', ' popularity'], axis=1)\n",
    "y = data[' popularity']"
   ]
  },
  {
   "cell_type": "markdown",
   "metadata": {},
   "source": [
    "### Checking the size of predictors (X) and predictable (y) features (Same quantity of rows)"
   ]
  },
  {
   "cell_type": "code",
   "execution_count": 67,
   "metadata": {},
   "outputs": [
    {
     "data": {
      "text/plain": [
       "((12849, 13), (12849,))"
      ]
     },
     "execution_count": 67,
     "metadata": {},
     "output_type": "execute_result"
    }
   ],
   "source": [
    "X.shape,y.shape"
   ]
  },
  {
   "cell_type": "markdown",
   "metadata": {},
   "source": [
    "### Defining a variable to change the predictors (X) if needed"
   ]
  },
  {
   "cell_type": "code",
   "execution_count": 68,
   "metadata": {},
   "outputs": [
    {
     "data": {
      "text/plain": [
       "Index([' n_tokens_title', ' num_hrefs', ' average_token_length', ' is_weekend',\n",
       "       ' global_sentiment_polarity', ' title_sentiment_polarity', ' workday',\n",
       "       ' data_channel_Entertainment', ' data_channel_Lifestyle',\n",
       "       ' data_channel_Other', ' data_channel_Social Media',\n",
       "       ' data_channel_Tech', ' data_channel_World'],\n",
       "      dtype='object')"
      ]
     },
     "execution_count": 68,
     "metadata": {},
     "output_type": "execute_result"
    }
   ],
   "source": [
    "X.columns"
   ]
  },
  {
   "cell_type": "code",
   "execution_count": 69,
   "metadata": {},
   "outputs": [],
   "source": [
    "resources = [' n_tokens_title', ' num_hrefs', ' average_token_length', ' is_weekend',\n",
    "       ' global_sentiment_polarity', ' title_sentiment_polarity', ' workday',\n",
    "       ' data_channel_Entertainment', ' data_channel_Lifestyle',\n",
    "       ' data_channel_Other', ' data_channel_Social Media',\n",
    "       ' data_channel_Tech', ' data_channel_World']"
   ]
  },
  {
   "cell_type": "code",
   "execution_count": 70,
   "metadata": {},
   "outputs": [],
   "source": [
    "X = X[resources]"
   ]
  },
  {
   "cell_type": "markdown",
   "metadata": {},
   "source": [
    "### Spliting the dataset into training and test datasets. The test dataset will be 30% of the original dataset."
   ]
  },
  {
   "cell_type": "code",
   "execution_count": 71,
   "metadata": {},
   "outputs": [],
   "source": [
    "# Library to split the dataset into train and test set\n",
    "from sklearn.model_selection import train_test_split"
   ]
  },
  {
   "cell_type": "code",
   "execution_count": 72,
   "metadata": {},
   "outputs": [],
   "source": [
    "X_train, X_test, y_train, y_test = train_test_split(X, y, test_size=0.3, random_state=123)"
   ]
  },
  {
   "cell_type": "code",
   "execution_count": 73,
   "metadata": {},
   "outputs": [
    {
     "data": {
      "text/plain": [
       "((8994, 13), (8994,))"
      ]
     },
     "execution_count": 73,
     "metadata": {},
     "output_type": "execute_result"
    }
   ],
   "source": [
    "X_train.shape, y_train.shape"
   ]
  },
  {
   "cell_type": "code",
   "execution_count": 74,
   "metadata": {},
   "outputs": [
    {
     "data": {
      "text/plain": [
       "((3855, 13), (3855,))"
      ]
     },
     "execution_count": 74,
     "metadata": {},
     "output_type": "execute_result"
    }
   ],
   "source": [
    "X_test.shape, y_test.shape"
   ]
  },
  {
   "cell_type": "markdown",
   "metadata": {},
   "source": [
    "### Defining a default class to fit all the models"
   ]
  },
  {
   "cell_type": "markdown",
   "metadata": {},
   "source": [
    "- Creating class to use for loop all the models."
   ]
  },
  {
   "cell_type": "code",
   "execution_count": 75,
   "metadata": {},
   "outputs": [],
   "source": [
    "class ModeloAuxiliar(object):\n",
    "    def __init__(self, clf, seed=123, params=None):\n",
    "        if params:\n",
    "            params['random_state'] = seed\n",
    "            \n",
    "            self.clf = clf(**params)\n",
    "        else:\n",
    "            self.clf = clf()\n",
    "    def predict(self, x):\n",
    "        return self.clf.predict(x)\n",
    "    \n",
    "    def fit(self,x,y):\n",
    "        return self.clf.fit(x,y)\n",
    "    \n",
    "    def feature_importances(self,x,y):\n",
    "        return self.clf.fit(x,y).feature_importances_\n",
    "    \n",
    "    def score(self,x,y):\n",
    "        return self.clf.score(x,y)\n",
    "    \n",
    "    def predict_proba(self,x):\n",
    "        return self.clf.predict_proba(x)\n",
    "       "
   ]
  },
  {
   "cell_type": "code",
   "execution_count": 76,
   "metadata": {},
   "outputs": [],
   "source": [
    "# Libraries to apply the ML models\n",
    "from sklearn.ensemble import (AdaBoostClassifier, \n",
    "                              GradientBoostingClassifier, \n",
    "                              ExtraTreesClassifier,\n",
    "                              RandomForestClassifier)\n",
    "from sklearn.linear_model import LogisticRegression\n",
    "from sklearn.svm import SVC, LinearSVC\n",
    "from sklearn.neighbors import KNeighborsClassifier\n",
    "from sklearn.naive_bayes import GaussianNB\n",
    "from sklearn.linear_model import Perceptron\n",
    "from sklearn.linear_model import SGDClassifier\n",
    "from sklearn.tree import DecisionTreeClassifier"
   ]
  },
  {
   "cell_type": "code",
   "execution_count": 77,
   "metadata": {},
   "outputs": [],
   "source": [
    "modelos = [{'name': 'logreg',\n",
    "            'model': LogisticRegression},\n",
    "           {'name': 'etree',\n",
    "           'model': ExtraTreesClassifier},\n",
    "           {'name': 'gradboost',\n",
    "           'model': GradientBoostingClassifier}, \n",
    "           {'name': 'adaboost',\n",
    "            'model': AdaBoostClassifier},\n",
    "           {'name': 'SVC',\n",
    "            'model': SVC},\n",
    "          {'name': 'KNN',\n",
    "           'model': KNeighborsClassifier},\n",
    "           {'name': 'GaussianNB',\n",
    "           'model': GaussianNB},\n",
    "           {'name': 'Perceptron',\n",
    "           'model': Perceptron},\n",
    "           {'name': 'LinearSVC',\n",
    "            'model': LinearSVC},\n",
    "           {'name': 'SGD',\n",
    "            'model': SGDClassifier},\n",
    "           {'name': 'Dtree',\n",
    "           'model': DecisionTreeClassifier},\n",
    "          {'name': 'RForest',\n",
    "           'model': RandomForestClassifier}]"
   ]
  },
  {
   "cell_type": "markdown",
   "metadata": {},
   "source": [
    "### Fitting one dataset for all models to check the best ones"
   ]
  },
  {
   "cell_type": "markdown",
   "metadata": {},
   "source": [
    "- Loop of all models."
   ]
  },
  {
   "cell_type": "code",
   "execution_count": 78,
   "metadata": {},
   "outputs": [
    {
     "name": "stderr",
     "output_type": "stream",
     "text": [
      "C:\\Users\\Bruno\\Anaconda3\\lib\\site-packages\\sklearn\\linear_model\\_logistic.py:940: ConvergenceWarning: lbfgs failed to converge (status=1):\n",
      "STOP: TOTAL NO. of ITERATIONS REACHED LIMIT.\n",
      "\n",
      "Increase the number of iterations (max_iter) or scale the data as shown in:\n",
      "    https://scikit-learn.org/stable/modules/preprocessing.html\n",
      "Please also refer to the documentation for alternative solver options:\n",
      "    https://scikit-learn.org/stable/modules/linear_model.html#logistic-regression\n",
      "  extra_warning_msg=_LOGISTIC_SOLVER_CONVERGENCE_MSG)\n",
      "C:\\Users\\Bruno\\Anaconda3\\lib\\site-packages\\sklearn\\svm\\_base.py:947: ConvergenceWarning: Liblinear failed to converge, increase the number of iterations.\n",
      "  \"the number of iterations.\", ConvergenceWarning)\n"
     ]
    }
   ],
   "source": [
    "results = []\n",
    "for model in modelos:\n",
    "    x = ModeloAuxiliar(clf=model['model'])\n",
    "    \n",
    "    name_model = re.findall(r\"^\\w+\",str(x.clf))\n",
    "    \n",
    "    # train the o model\n",
    "    \n",
    "    x.fit(X_train, y_train)\n",
    "    \n",
    "    # generate predictions\n",
    "    \n",
    "    x_pred = x.predict(X_test)\n",
    "    \n",
    "    # generate score\n",
    "    \n",
    "    accuracy = round(x.score(X_test,y_test)*100,2) \n",
    " \n",
    "    # features importance\n",
    "        \n",
    "    if name_model[0] in ['ExtraTreesClassifier', 'GradientBoostingClassifier', 'AdaBoostClassifier', \n",
    "                          'DecisionTreeClassifier', 'RandomForestClassifier']:\n",
    "        \n",
    "        imp_features = x.feature_importances(X_train, y_train)\n",
    "    else:\n",
    "        imp_features = 'N/A'\n",
    "    \n",
    "    results.append({'name': model['name'],\n",
    "                     'model': model['model'],\n",
    "                       'score': accuracy,\n",
    "                       'pred': x_pred,\n",
    "                    'features_importance': imp_features})"
   ]
  },
  {
   "cell_type": "markdown",
   "metadata": {},
   "source": [
    "### Creating dataframe with results"
   ]
  },
  {
   "cell_type": "markdown",
   "metadata": {},
   "source": [
    "- The dataframe contains the name of the model, the $R^2$ score for each model, predicted values for each model and the importance of features for the models (for models with this feature available)."
   ]
  },
  {
   "cell_type": "code",
   "execution_count": 79,
   "metadata": {},
   "outputs": [],
   "source": [
    "models = pd.DataFrame(results)"
   ]
  },
  {
   "cell_type": "markdown",
   "metadata": {},
   "source": [
    "### Comparing the results among the models\n",
    "\n",
    "Returns the coefficient of determination $R^2$ of the prediction by using the score method of each model."
   ]
  },
  {
   "cell_type": "code",
   "execution_count": 80,
   "metadata": {},
   "outputs": [
    {
     "data": {
      "text/html": [
       "<div>\n",
       "<style scoped>\n",
       "    .dataframe tbody tr th:only-of-type {\n",
       "        vertical-align: middle;\n",
       "    }\n",
       "\n",
       "    .dataframe tbody tr th {\n",
       "        vertical-align: top;\n",
       "    }\n",
       "\n",
       "    .dataframe thead th {\n",
       "        text-align: right;\n",
       "    }\n",
       "</style>\n",
       "<table border=\"1\" class=\"dataframe\">\n",
       "  <thead>\n",
       "    <tr style=\"text-align: right;\">\n",
       "      <th></th>\n",
       "      <th>name</th>\n",
       "      <th>score</th>\n",
       "    </tr>\n",
       "  </thead>\n",
       "  <tbody>\n",
       "    <tr>\n",
       "      <th>1</th>\n",
       "      <td>etree</td>\n",
       "      <td>44.25</td>\n",
       "    </tr>\n",
       "    <tr>\n",
       "      <th>11</th>\n",
       "      <td>RForest</td>\n",
       "      <td>43.79</td>\n",
       "    </tr>\n",
       "    <tr>\n",
       "      <th>10</th>\n",
       "      <td>Dtree</td>\n",
       "      <td>40.65</td>\n",
       "    </tr>\n",
       "    <tr>\n",
       "      <th>5</th>\n",
       "      <td>KNN</td>\n",
       "      <td>39.74</td>\n",
       "    </tr>\n",
       "    <tr>\n",
       "      <th>2</th>\n",
       "      <td>gradboost</td>\n",
       "      <td>36.91</td>\n",
       "    </tr>\n",
       "    <tr>\n",
       "      <th>3</th>\n",
       "      <td>adaboost</td>\n",
       "      <td>34.03</td>\n",
       "    </tr>\n",
       "    <tr>\n",
       "      <th>4</th>\n",
       "      <td>SVC</td>\n",
       "      <td>33.98</td>\n",
       "    </tr>\n",
       "    <tr>\n",
       "      <th>0</th>\n",
       "      <td>logreg</td>\n",
       "      <td>33.96</td>\n",
       "    </tr>\n",
       "    <tr>\n",
       "      <th>6</th>\n",
       "      <td>GaussianNB</td>\n",
       "      <td>32.71</td>\n",
       "    </tr>\n",
       "    <tr>\n",
       "      <th>8</th>\n",
       "      <td>LinearSVC</td>\n",
       "      <td>32.40</td>\n",
       "    </tr>\n",
       "    <tr>\n",
       "      <th>7</th>\n",
       "      <td>Perceptron</td>\n",
       "      <td>25.03</td>\n",
       "    </tr>\n",
       "    <tr>\n",
       "      <th>9</th>\n",
       "      <td>SGD</td>\n",
       "      <td>22.26</td>\n",
       "    </tr>\n",
       "  </tbody>\n",
       "</table>\n",
       "</div>"
      ],
      "text/plain": [
       "          name  score\n",
       "1        etree  44.25\n",
       "11     RForest  43.79\n",
       "10       Dtree  40.65\n",
       "5          KNN  39.74\n",
       "2    gradboost  36.91\n",
       "3     adaboost  34.03\n",
       "4          SVC  33.98\n",
       "0       logreg  33.96\n",
       "6   GaussianNB  32.71\n",
       "8    LinearSVC  32.40\n",
       "7   Perceptron  25.03\n",
       "9          SGD  22.26"
      ]
     },
     "execution_count": 80,
     "metadata": {},
     "output_type": "execute_result"
    }
   ],
   "source": [
    "models[['name','score']].sort_values(by='score', ascending=False)"
   ]
  },
  {
   "cell_type": "markdown",
   "metadata": {},
   "source": [
    "- Defining the **two best scores** from database dataframe into new variables."
   ]
  },
  {
   "cell_type": "code",
   "execution_count": 81,
   "metadata": {},
   "outputs": [],
   "source": [
    "best_1 = models.sort_values(by='score', ascending=False).iloc[0]\n",
    "best_2 = models.sort_values(by='score', ascending=False).iloc[1]"
   ]
  },
  {
   "cell_type": "markdown",
   "metadata": {},
   "source": [
    "### Feature Importance"
   ]
  },
  {
   "cell_type": "markdown",
   "metadata": {},
   "source": [
    "- Collecting **features values** from database based on the **two best models**."
   ]
  },
  {
   "cell_type": "code",
   "execution_count": 82,
   "metadata": {},
   "outputs": [],
   "source": [
    "best_1_features = best_1['features_importance']\n",
    "best_2_features = best_2['features_importance']"
   ]
  },
  {
   "cell_type": "markdown",
   "metadata": {},
   "source": [
    "- Creating a dataframe from feature importance values collected from database **to plot** the results."
   ]
  },
  {
   "cell_type": "code",
   "execution_count": 83,
   "metadata": {},
   "outputs": [],
   "source": [
    "cols = X_train.columns.values\n",
    "\n",
    "feature_dataframe = pd.DataFrame({'Feature': cols, \n",
    "                                  # Transforming data into percentage of importance of each feature.\n",
    "                                  'Feature Importance ({})'.format(best_1['name']): best_1_features*100.00,\n",
    "                                  'Feature Importance ({})'.format(best_2['name']): best_2_features*100.00}) "
   ]
  },
  {
   "cell_type": "code",
   "execution_count": 84,
   "metadata": {},
   "outputs": [
    {
     "data": {
      "text/html": [
       "<div>\n",
       "<style scoped>\n",
       "    .dataframe tbody tr th:only-of-type {\n",
       "        vertical-align: middle;\n",
       "    }\n",
       "\n",
       "    .dataframe tbody tr th {\n",
       "        vertical-align: top;\n",
       "    }\n",
       "\n",
       "    .dataframe thead th {\n",
       "        text-align: right;\n",
       "    }\n",
       "</style>\n",
       "<table border=\"1\" class=\"dataframe\">\n",
       "  <thead>\n",
       "    <tr style=\"text-align: right;\">\n",
       "      <th></th>\n",
       "      <th>Feature</th>\n",
       "      <th>Feature Importance (etree)</th>\n",
       "      <th>Feature Importance (RForest)</th>\n",
       "    </tr>\n",
       "  </thead>\n",
       "  <tbody>\n",
       "    <tr>\n",
       "      <th>0</th>\n",
       "      <td>n_tokens_title</td>\n",
       "      <td>12.814465</td>\n",
       "      <td>12.826740</td>\n",
       "    </tr>\n",
       "    <tr>\n",
       "      <th>1</th>\n",
       "      <td>num_hrefs</td>\n",
       "      <td>19.132370</td>\n",
       "      <td>17.217690</td>\n",
       "    </tr>\n",
       "    <tr>\n",
       "      <th>2</th>\n",
       "      <td>average_token_length</td>\n",
       "      <td>23.377720</td>\n",
       "      <td>24.103096</td>\n",
       "    </tr>\n",
       "    <tr>\n",
       "      <th>3</th>\n",
       "      <td>is_weekend</td>\n",
       "      <td>0.529924</td>\n",
       "      <td>0.734725</td>\n",
       "    </tr>\n",
       "    <tr>\n",
       "      <th>4</th>\n",
       "      <td>global_sentiment_polarity</td>\n",
       "      <td>23.450957</td>\n",
       "      <td>24.278641</td>\n",
       "    </tr>\n",
       "    <tr>\n",
       "      <th>5</th>\n",
       "      <td>title_sentiment_polarity</td>\n",
       "      <td>15.228768</td>\n",
       "      <td>14.151588</td>\n",
       "    </tr>\n",
       "    <tr>\n",
       "      <th>6</th>\n",
       "      <td>workday</td>\n",
       "      <td>0.739773</td>\n",
       "      <td>0.656470</td>\n",
       "    </tr>\n",
       "    <tr>\n",
       "      <th>7</th>\n",
       "      <td>data_channel_Entertainment</td>\n",
       "      <td>0.511954</td>\n",
       "      <td>0.929516</td>\n",
       "    </tr>\n",
       "    <tr>\n",
       "      <th>8</th>\n",
       "      <td>data_channel_Lifestyle</td>\n",
       "      <td>0.275559</td>\n",
       "      <td>0.568913</td>\n",
       "    </tr>\n",
       "    <tr>\n",
       "      <th>9</th>\n",
       "      <td>data_channel_Other</td>\n",
       "      <td>2.056447</td>\n",
       "      <td>2.026070</td>\n",
       "    </tr>\n",
       "    <tr>\n",
       "      <th>10</th>\n",
       "      <td>data_channel_Social Media</td>\n",
       "      <td>0.414431</td>\n",
       "      <td>0.626417</td>\n",
       "    </tr>\n",
       "    <tr>\n",
       "      <th>11</th>\n",
       "      <td>data_channel_Tech</td>\n",
       "      <td>0.664445</td>\n",
       "      <td>0.822666</td>\n",
       "    </tr>\n",
       "    <tr>\n",
       "      <th>12</th>\n",
       "      <td>data_channel_World</td>\n",
       "      <td>0.803187</td>\n",
       "      <td>1.057468</td>\n",
       "    </tr>\n",
       "  </tbody>\n",
       "</table>\n",
       "</div>"
      ],
      "text/plain": [
       "                        Feature  Feature Importance (etree)  \\\n",
       "0                n_tokens_title                   12.814465   \n",
       "1                     num_hrefs                   19.132370   \n",
       "2          average_token_length                   23.377720   \n",
       "3                    is_weekend                    0.529924   \n",
       "4     global_sentiment_polarity                   23.450957   \n",
       "5      title_sentiment_polarity                   15.228768   \n",
       "6                       workday                    0.739773   \n",
       "7    data_channel_Entertainment                    0.511954   \n",
       "8        data_channel_Lifestyle                    0.275559   \n",
       "9            data_channel_Other                    2.056447   \n",
       "10    data_channel_Social Media                    0.414431   \n",
       "11            data_channel_Tech                    0.664445   \n",
       "12           data_channel_World                    0.803187   \n",
       "\n",
       "    Feature Importance (RForest)  \n",
       "0                      12.826740  \n",
       "1                      17.217690  \n",
       "2                      24.103096  \n",
       "3                       0.734725  \n",
       "4                      24.278641  \n",
       "5                      14.151588  \n",
       "6                       0.656470  \n",
       "7                       0.929516  \n",
       "8                       0.568913  \n",
       "9                       2.026070  \n",
       "10                      0.626417  \n",
       "11                      0.822666  \n",
       "12                      1.057468  "
      ]
     },
     "execution_count": 84,
     "metadata": {},
     "output_type": "execute_result"
    }
   ],
   "source": [
    "feature_dataframe"
   ]
  },
  {
   "cell_type": "markdown",
   "metadata": {},
   "source": [
    "- Collecting **the 10 best features** to plot for each model (Total features is X variables)."
   ]
  },
  {
   "cell_type": "code",
   "execution_count": 85,
   "metadata": {},
   "outputs": [],
   "source": [
    "best_1_top10 = feature_dataframe[['Feature','Feature Importance ({})'.format(best_1['name'])]].\\\n",
    "sort_values(by='Feature Importance ({})'.format(best_1['name']), ascending=False).head(10)\n",
    "\n",
    "best_2_top10 = feature_dataframe[['Feature','Feature Importance ({})'.format(best_2['name'])]].\\\n",
    "sort_values(by='Feature Importance ({})'.format(best_2['name']), ascending=False).head(10)"
   ]
  },
  {
   "cell_type": "markdown",
   "metadata": {},
   "source": [
    "- Plotting the **feature importance** data of the **two best models**."
   ]
  },
  {
   "cell_type": "code",
   "execution_count": 86,
   "metadata": {},
   "outputs": [
    {
     "data": {
      "image/png": "[encoded data removed]",
      "text/plain": [
       "<Figure size 576x576 with 2 Axes>"
      ]
     },
     "metadata": {
      "needs_background": "light"
     },
     "output_type": "display_data"
    }
   ],
   "source": [
    "fig, (ax1, ax2) = plt.subplots(nrows=2,ncols=1,constrained_layout=True)\n",
    "fig.suptitle('Top 10 - Feature Importance', fontsize=16)\n",
    "fig.set_figheight(8)\n",
    "fig.set_figwidth(8)\n",
    "\n",
    "# Best model 1\n",
    "\n",
    "ax1.set_title('Model: {}'.format(best_1['name']))\n",
    "sns.set_color_codes(\"pastel\")\n",
    "sns.barplot(x=\"Feature Importance ({})\".format(best_1['name']), y=\"Feature\", data=best_1_top10, color=\"g\", ax=ax1)\n",
    "\n",
    "\n",
    "# Best model 2\n",
    "\n",
    "ax2.set_title('Model: {}'.format(best_2['name']))\n",
    "sns.set_color_codes(\"pastel\")\n",
    "sns.barplot(x=\"Feature Importance ({})\".format(best_2['name']), y=\"Feature\", data=best_2_top10, color=\"g\", ax=ax2)\n",
    "\n",
    "plt.savefig(path + 'Figures/news_feature_importance.png')\n",
    "plt.show()"
   ]
  },
  {
   "cell_type": "markdown",
   "metadata": {},
   "source": [
    "### Confusion Matrix"
   ]
  },
  {
   "cell_type": "code",
   "execution_count": 87,
   "metadata": {},
   "outputs": [],
   "source": [
    "# Library to work with Confusion Matrix\n",
    "from sklearn.metrics import confusion_matrix\n",
    "from sklearn.metrics import (recall_score,\n",
    "                             accuracy_score,\n",
    "                             precision_score,\n",
    "                             f1_score)"
   ]
  },
  {
   "cell_type": "markdown",
   "metadata": {},
   "source": [
    "- Collecting predictive values to use with **Confusion Matrix** of the **two best models**."
   ]
  },
  {
   "cell_type": "code",
   "execution_count": 88,
   "metadata": {},
   "outputs": [],
   "source": [
    "best_1_pred = best_1['pred']\n",
    "best_2_pred = best_2['pred']"
   ]
  },
  {
   "cell_type": "markdown",
   "metadata": {},
   "source": [
    "- Plotting the **confusion matrix** of the **two best models**."
   ]
  },
  {
   "cell_type": "code",
   "execution_count": 89,
   "metadata": {},
   "outputs": [
    {
     "data": {
      "image/png": "[encoded data removed]",
      "text/plain": [
       "<Figure size 720x360 with 4 Axes>"
      ]
     },
     "metadata": {
      "needs_background": "light"
     },
     "output_type": "display_data"
    }
   ],
   "source": [
    "fig, (ax1, ax2) = plt.subplots(nrows=1,ncols=2,constrained_layout=True)\n",
    "fig.suptitle('Confusion Matrix', fontsize=16)\n",
    "fig.set_figheight(5)\n",
    "fig.set_figwidth(10)\n",
    "\n",
    "# Best 1 plot\n",
    "\n",
    "sns.heatmap(confusion_matrix(y_test, best_1_pred), cmap='Greens', annot=True, fmt='2.0f', ax=ax1)\n",
    "ax1.set_title('Model: {}'.format(best_1['name']))\n",
    "ax1.set_ylabel('F O R E S E E N')\n",
    "ax1.set_xlabel('R E A L')\n",
    "\n",
    "# Best 2 plot\n",
    "\n",
    "sns.heatmap(confusion_matrix(y_test, best_2_pred), cmap='Greens', annot=True, fmt='2.0f', ax=ax2)\n",
    "ax2.set_title('Model: {}'.format(best_2['name']))\n",
    "ax2.set_ylabel('F O R E S E E N')\n",
    "ax2.set_xlabel('R E A L')\n",
    "\n",
    "plt.savefig(path + 'Figures/news_confusion_matrix.png')\n",
    "plt.show()"
   ]
  },
  {
   "cell_type": "markdown",
   "metadata": {},
   "source": [
    "### Evaluating Confusion Matrix"
   ]
  },
  {
   "cell_type": "markdown",
   "metadata": {},
   "source": [
    "- Calculating **precision**, **recall**, **accuracy** and **F1 scores** of the **two best models**."
   ]
  },
  {
   "cell_type": "code",
   "execution_count": 90,
   "metadata": {},
   "outputs": [],
   "source": [
    "# Precision\n",
    "\n",
    "p_score_1 = precision_score(y_test,best_1_pred, average='macro')\n",
    "p_score_2 = precision_score(y_test,best_2_pred, average='macro')\n",
    "\n",
    "# Recall\n",
    "\n",
    "r_score_1 = recall_score(y_test,best_1_pred, average='macro')\n",
    "r_score_2 = recall_score(y_test,best_2_pred, average='macro')\n",
    "\n",
    "# Accuracy\n",
    "\n",
    "a_score_1 = accuracy_score(y_test,best_1_pred)\n",
    "a_score_2 = accuracy_score(y_test,best_2_pred)\n",
    "\n",
    "# F1 Score\n",
    "\n",
    "f_score_1 = f1_score(y_test,best_1_pred, average='macro')\n",
    "f_score_2 = f1_score(y_test,best_2_pred, average='macro')"
   ]
  },
  {
   "cell_type": "markdown",
   "metadata": {},
   "source": [
    "- Creating dataframe with the **precision**, **recall**, **accuracy** and **F1 scores** of the **two best models**."
   ]
  },
  {
   "cell_type": "code",
   "execution_count": 91,
   "metadata": {},
   "outputs": [],
   "source": [
    "score_results = {'model':['{}'.format(best_1['name']), '{}'.format(best_2['name'])],\n",
    "                     'Precision':[p_score_1, p_score_2],\n",
    "                     'Recall': [r_score_1, r_score_2],\n",
    "                     'Accuracy': [a_score_1, a_score_2],\n",
    "                     'F1 Score': [f_score_1, f_score_2]}"
   ]
  },
  {
   "cell_type": "code",
   "execution_count": 92,
   "metadata": {},
   "outputs": [],
   "source": [
    "confusion_matrix = pd.DataFrame(score_results)"
   ]
  },
  {
   "cell_type": "markdown",
   "metadata": {},
   "source": [
    "- Showing **precision**, **recall**, **accuracy** and **F1 scores** results of the **two best models**."
   ]
  },
  {
   "cell_type": "code",
   "execution_count": 93,
   "metadata": {},
   "outputs": [
    {
     "data": {
      "text/html": [
       "<div>\n",
       "<style scoped>\n",
       "    .dataframe tbody tr th:only-of-type {\n",
       "        vertical-align: middle;\n",
       "    }\n",
       "\n",
       "    .dataframe tbody tr th {\n",
       "        vertical-align: top;\n",
       "    }\n",
       "\n",
       "    .dataframe thead th {\n",
       "        text-align: right;\n",
       "    }\n",
       "</style>\n",
       "<table border=\"1\" class=\"dataframe\">\n",
       "  <thead>\n",
       "    <tr style=\"text-align: right;\">\n",
       "      <th></th>\n",
       "      <th>model</th>\n",
       "      <th>Precision</th>\n",
       "      <th>Recall</th>\n",
       "      <th>Accuracy</th>\n",
       "      <th>F1 Score</th>\n",
       "    </tr>\n",
       "  </thead>\n",
       "  <tbody>\n",
       "    <tr>\n",
       "      <th>0</th>\n",
       "      <td>etree</td>\n",
       "      <td>0.431845</td>\n",
       "      <td>0.445115</td>\n",
       "      <td>0.442542</td>\n",
       "      <td>0.437919</td>\n",
       "    </tr>\n",
       "    <tr>\n",
       "      <th>1</th>\n",
       "      <td>RForest</td>\n",
       "      <td>0.419142</td>\n",
       "      <td>0.440448</td>\n",
       "      <td>0.437873</td>\n",
       "      <td>0.428183</td>\n",
       "    </tr>\n",
       "  </tbody>\n",
       "</table>\n",
       "</div>"
      ],
      "text/plain": [
       "     model  Precision    Recall  Accuracy  F1 Score\n",
       "0    etree   0.431845  0.445115  0.442542  0.437919\n",
       "1  RForest   0.419142  0.440448  0.437873  0.428183"
      ]
     },
     "execution_count": 93,
     "metadata": {},
     "output_type": "execute_result"
    }
   ],
   "source": [
    "confusion_matrix"
   ]
  }
 ],
 "metadata": {
  "kernelspec": {
   "display_name": "Python 3",
   "language": "python",
   "name": "python3"
  },
  "language_info": {
   "codemirror_mode": {
    "name": "ipython",
    "version": 3
   },
   "file_extension": ".py",
   "mimetype": "text/x-python",
   "name": "python",
   "nbconvert_exporter": "python",
   "pygments_lexer": "ipython3",
   "version": "3.7.6"
  }
 },
 "nbformat": 4,
 "nbformat_minor": 4
}
