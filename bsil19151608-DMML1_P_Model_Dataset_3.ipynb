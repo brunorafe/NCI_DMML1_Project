{
 "cells": [
  {
   "cell_type": "markdown",
   "metadata": {},
   "source": [
    "# Hotel Booking Demand Dataset"
   ]
  },
  {
   "cell_type": "markdown",
   "metadata": {},
   "source": [
    "## Importing the necessary libraries"
   ]
  },
  {
   "cell_type": "code",
   "execution_count": 29,
   "metadata": {},
   "outputs": [],
   "source": [
    "# Libraries to work with the datasets\n",
    "import re\n",
    "import numpy as np\n",
    "import pandas as pd\n",
    "\n",
    "# Libraries to plot data\n",
    "import seaborn as sns\n",
    "import matplotlib.pyplot as plt\n",
    "%matplotlib inline"
   ]
  },
  {
   "cell_type": "markdown",
   "metadata": {},
   "source": [
    "### Importing the normalized dataset"
   ]
  },
  {
   "cell_type": "markdown",
   "metadata": {},
   "source": [
    "- Importing the CSV resulting file of normalized data."
   ]
  },
  {
   "cell_type": "code",
   "execution_count": 30,
   "metadata": {},
   "outputs": [],
   "source": [
    "path = \"C:/Users/Bruno/Documents/GitHub/NCI_DMML1_Project/\"\n",
    "file_name = 'Results/hotel_dataset.csv'\n",
    "data = pd.read_csv(file_name)"
   ]
  },
  {
   "cell_type": "code",
   "execution_count": 31,
   "metadata": {},
   "outputs": [
    {
     "data": {
      "text/html": [
       "<div>\n",
       "<style scoped>\n",
       "    .dataframe tbody tr th:only-of-type {\n",
       "        vertical-align: middle;\n",
       "    }\n",
       "\n",
       "    .dataframe tbody tr th {\n",
       "        vertical-align: top;\n",
       "    }\n",
       "\n",
       "    .dataframe thead th {\n",
       "        text-align: right;\n",
       "    }\n",
       "</style>\n",
       "<table border=\"1\" class=\"dataframe\">\n",
       "  <thead>\n",
       "    <tr style=\"text-align: right;\">\n",
       "      <th></th>\n",
       "      <th>is_canceled</th>\n",
       "      <th>lead_time</th>\n",
       "      <th>arrival_date_year</th>\n",
       "      <th>arrival_date_month</th>\n",
       "      <th>arrival_date_week_number</th>\n",
       "      <th>arrival_date_day_of_month</th>\n",
       "      <th>stays_in_weekend_nights</th>\n",
       "      <th>stays_in_week_nights</th>\n",
       "      <th>adults</th>\n",
       "      <th>children</th>\n",
       "      <th>...</th>\n",
       "      <th>is_repeated_guest</th>\n",
       "      <th>previous_cancellations</th>\n",
       "      <th>previous_bookings_not_canceled</th>\n",
       "      <th>booking_changes</th>\n",
       "      <th>deposit_type</th>\n",
       "      <th>days_in_waiting_list</th>\n",
       "      <th>customer_type</th>\n",
       "      <th>adr</th>\n",
       "      <th>required_car_parking_spaces</th>\n",
       "      <th>total_of_special_requests</th>\n",
       "    </tr>\n",
       "  </thead>\n",
       "  <tbody>\n",
       "    <tr>\n",
       "      <th>0</th>\n",
       "      <td>0</td>\n",
       "      <td>240</td>\n",
       "      <td>2016</td>\n",
       "      <td>9</td>\n",
       "      <td>36</td>\n",
       "      <td>3</td>\n",
       "      <td>2</td>\n",
       "      <td>5</td>\n",
       "      <td>2</td>\n",
       "      <td>0.0</td>\n",
       "      <td>...</td>\n",
       "      <td>0</td>\n",
       "      <td>0</td>\n",
       "      <td>0</td>\n",
       "      <td>0</td>\n",
       "      <td>0</td>\n",
       "      <td>0</td>\n",
       "      <td>0</td>\n",
       "      <td>59.80</td>\n",
       "      <td>0</td>\n",
       "      <td>0</td>\n",
       "    </tr>\n",
       "    <tr>\n",
       "      <th>1</th>\n",
       "      <td>0</td>\n",
       "      <td>3</td>\n",
       "      <td>2017</td>\n",
       "      <td>6</td>\n",
       "      <td>23</td>\n",
       "      <td>9</td>\n",
       "      <td>0</td>\n",
       "      <td>2</td>\n",
       "      <td>2</td>\n",
       "      <td>2.0</td>\n",
       "      <td>...</td>\n",
       "      <td>0</td>\n",
       "      <td>0</td>\n",
       "      <td>0</td>\n",
       "      <td>0</td>\n",
       "      <td>0</td>\n",
       "      <td>0</td>\n",
       "      <td>0</td>\n",
       "      <td>182.00</td>\n",
       "      <td>1</td>\n",
       "      <td>0</td>\n",
       "    </tr>\n",
       "    <tr>\n",
       "      <th>2</th>\n",
       "      <td>0</td>\n",
       "      <td>45</td>\n",
       "      <td>2016</td>\n",
       "      <td>11</td>\n",
       "      <td>48</td>\n",
       "      <td>25</td>\n",
       "      <td>0</td>\n",
       "      <td>2</td>\n",
       "      <td>2</td>\n",
       "      <td>0.0</td>\n",
       "      <td>...</td>\n",
       "      <td>0</td>\n",
       "      <td>0</td>\n",
       "      <td>0</td>\n",
       "      <td>0</td>\n",
       "      <td>0</td>\n",
       "      <td>0</td>\n",
       "      <td>0</td>\n",
       "      <td>67.80</td>\n",
       "      <td>0</td>\n",
       "      <td>2</td>\n",
       "    </tr>\n",
       "    <tr>\n",
       "      <th>3</th>\n",
       "      <td>0</td>\n",
       "      <td>49</td>\n",
       "      <td>2016</td>\n",
       "      <td>3</td>\n",
       "      <td>11</td>\n",
       "      <td>9</td>\n",
       "      <td>0</td>\n",
       "      <td>1</td>\n",
       "      <td>1</td>\n",
       "      <td>0.0</td>\n",
       "      <td>...</td>\n",
       "      <td>0</td>\n",
       "      <td>0</td>\n",
       "      <td>0</td>\n",
       "      <td>0</td>\n",
       "      <td>0</td>\n",
       "      <td>0</td>\n",
       "      <td>0</td>\n",
       "      <td>67.22</td>\n",
       "      <td>0</td>\n",
       "      <td>1</td>\n",
       "    </tr>\n",
       "    <tr>\n",
       "      <th>4</th>\n",
       "      <td>0</td>\n",
       "      <td>18</td>\n",
       "      <td>2016</td>\n",
       "      <td>7</td>\n",
       "      <td>30</td>\n",
       "      <td>17</td>\n",
       "      <td>4</td>\n",
       "      <td>6</td>\n",
       "      <td>2</td>\n",
       "      <td>0.0</td>\n",
       "      <td>...</td>\n",
       "      <td>0</td>\n",
       "      <td>0</td>\n",
       "      <td>0</td>\n",
       "      <td>0</td>\n",
       "      <td>0</td>\n",
       "      <td>0</td>\n",
       "      <td>0</td>\n",
       "      <td>212.00</td>\n",
       "      <td>0</td>\n",
       "      <td>1</td>\n",
       "    </tr>\n",
       "  </tbody>\n",
       "</table>\n",
       "<p>5 rows × 22 columns</p>\n",
       "</div>"
      ],
      "text/plain": [
       "   is_canceled  lead_time  arrival_date_year  arrival_date_month  \\\n",
       "0            0        240               2016                   9   \n",
       "1            0          3               2017                   6   \n",
       "2            0         45               2016                  11   \n",
       "3            0         49               2016                   3   \n",
       "4            0         18               2016                   7   \n",
       "\n",
       "   arrival_date_week_number  arrival_date_day_of_month  \\\n",
       "0                        36                          3   \n",
       "1                        23                          9   \n",
       "2                        48                         25   \n",
       "3                        11                          9   \n",
       "4                        30                         17   \n",
       "\n",
       "   stays_in_weekend_nights  stays_in_week_nights  adults  children  ...  \\\n",
       "0                        2                     5       2       0.0  ...   \n",
       "1                        0                     2       2       2.0  ...   \n",
       "2                        0                     2       2       0.0  ...   \n",
       "3                        0                     1       1       0.0  ...   \n",
       "4                        4                     6       2       0.0  ...   \n",
       "\n",
       "   is_repeated_guest previous_cancellations  previous_bookings_not_canceled  \\\n",
       "0                  0                      0                               0   \n",
       "1                  0                      0                               0   \n",
       "2                  0                      0                               0   \n",
       "3                  0                      0                               0   \n",
       "4                  0                      0                               0   \n",
       "\n",
       "   booking_changes  deposit_type  days_in_waiting_list  customer_type     adr  \\\n",
       "0                0             0                     0              0   59.80   \n",
       "1                0             0                     0              0  182.00   \n",
       "2                0             0                     0              0   67.80   \n",
       "3                0             0                     0              0   67.22   \n",
       "4                0             0                     0              0  212.00   \n",
       "\n",
       "   required_car_parking_spaces  total_of_special_requests  \n",
       "0                            0                          0  \n",
       "1                            1                          0  \n",
       "2                            0                          2  \n",
       "3                            0                          1  \n",
       "4                            0                          1  \n",
       "\n",
       "[5 rows x 22 columns]"
      ]
     },
     "execution_count": 31,
     "metadata": {},
     "output_type": "execute_result"
    }
   ],
   "source": [
    "data.head()"
   ]
  },
  {
   "cell_type": "markdown",
   "metadata": {},
   "source": [
    "### Creating the variables to work with the models."
   ]
  },
  {
   "cell_type": "markdown",
   "metadata": {},
   "source": [
    "- Dependent variable: \"is_canceled\".\n",
    "- Independent variables: 'lead_time', 'arrival_date_year', 'arrival_date_month', 'arrival_date_week_number', 'arrival_date_day_of_month', 'stays_in_weekend_nights', 'stays_in_week_nights', 'adults', 'children', 'babies', 'is_repeated_guest', 'previous_cancellations', 'previous_bookings_not_canceled', 'booking_changes', 'deposit_type', 'days_in_waiting_list', 'customer_type', 'adr', 'required_car_parking_spaces', 'total_of_special_requests'."
   ]
  },
  {
   "cell_type": "code",
   "execution_count": 32,
   "metadata": {},
   "outputs": [],
   "source": [
    "X = data.drop('is_canceled', axis=1)\n",
    "y = data['is_canceled']"
   ]
  },
  {
   "cell_type": "markdown",
   "metadata": {},
   "source": [
    "### Checking the size of predictors (X) and predictable (y) features (Same quantity of rows)"
   ]
  },
  {
   "cell_type": "code",
   "execution_count": 33,
   "metadata": {},
   "outputs": [
    {
     "data": {
      "text/plain": [
       "((89224, 21), (89224,))"
      ]
     },
     "execution_count": 33,
     "metadata": {},
     "output_type": "execute_result"
    }
   ],
   "source": [
    "X.shape,y.shape"
   ]
  },
  {
   "cell_type": "markdown",
   "metadata": {},
   "source": [
    "### Defining a variable to change the predictors (X) if needed"
   ]
  },
  {
   "cell_type": "code",
   "execution_count": 34,
   "metadata": {},
   "outputs": [
    {
     "data": {
      "text/plain": [
       "Index(['lead_time', 'arrival_date_year', 'arrival_date_month',\n",
       "       'arrival_date_week_number', 'arrival_date_day_of_month',\n",
       "       'stays_in_weekend_nights', 'stays_in_week_nights', 'adults', 'children',\n",
       "       'babies', 'country', 'is_repeated_guest', 'previous_cancellations',\n",
       "       'previous_bookings_not_canceled', 'booking_changes', 'deposit_type',\n",
       "       'days_in_waiting_list', 'customer_type', 'adr',\n",
       "       'required_car_parking_spaces', 'total_of_special_requests'],\n",
       "      dtype='object')"
      ]
     },
     "execution_count": 34,
     "metadata": {},
     "output_type": "execute_result"
    }
   ],
   "source": [
    "X.columns"
   ]
  },
  {
   "cell_type": "code",
   "execution_count": 35,
   "metadata": {},
   "outputs": [],
   "source": [
    "resources = ['lead_time', 'arrival_date_year', 'arrival_date_month',\n",
    "             'arrival_date_week_number','arrival_date_day_of_month',\n",
    "             'stays_in_weekend_nights', 'stays_in_week_nights', 'adults', 'children',\n",
    "             'babies', 'is_repeated_guest', 'previous_cancellations',\n",
    "             'previous_bookings_not_canceled', 'booking_changes', 'deposit_type',\n",
    "             'days_in_waiting_list','customer_type', 'adr', 'required_car_parking_spaces',\n",
    "             'total_of_special_requests']"
   ]
  },
  {
   "cell_type": "code",
   "execution_count": 36,
   "metadata": {},
   "outputs": [],
   "source": [
    "X = X[resources]"
   ]
  },
  {
   "cell_type": "markdown",
   "metadata": {},
   "source": [
    "### Spliting the dataset into training and test datasets. The test dataset will be 30% of the original dataset."
   ]
  },
  {
   "cell_type": "code",
   "execution_count": 37,
   "metadata": {},
   "outputs": [],
   "source": [
    "# Library to split the dataset into train and test set\n",
    "from sklearn.model_selection import train_test_split"
   ]
  },
  {
   "cell_type": "code",
   "execution_count": 38,
   "metadata": {},
   "outputs": [],
   "source": [
    "X_train, X_test, y_train, y_test = train_test_split(X, y, test_size=0.3, random_state=123)"
   ]
  },
  {
   "cell_type": "code",
   "execution_count": 39,
   "metadata": {},
   "outputs": [
    {
     "data": {
      "text/plain": [
       "((62456, 20), (62456,))"
      ]
     },
     "execution_count": 39,
     "metadata": {},
     "output_type": "execute_result"
    }
   ],
   "source": [
    "X_train.shape, y_train.shape"
   ]
  },
  {
   "cell_type": "code",
   "execution_count": 40,
   "metadata": {},
   "outputs": [
    {
     "data": {
      "text/plain": [
       "((26768, 20), (26768,))"
      ]
     },
     "execution_count": 40,
     "metadata": {},
     "output_type": "execute_result"
    }
   ],
   "source": [
    "X_test.shape, y_test.shape"
   ]
  },
  {
   "cell_type": "markdown",
   "metadata": {},
   "source": [
    "### Defining a default class to fit all the models"
   ]
  },
  {
   "cell_type": "code",
   "execution_count": 41,
   "metadata": {},
   "outputs": [],
   "source": [
    "class AuxiliarModel(object):\n",
    "    def __init__(self, clf, seed=123, params=None):\n",
    "        if params:\n",
    "            params['random_state'] = seed\n",
    "            self.clf = clf(**params)\n",
    "        else:\n",
    "            self.clf = clf()\n",
    "    def predict(self, x):\n",
    "        return self.clf.predict(x)\n",
    "    \n",
    "    def fit(self,x,y):\n",
    "        return self.clf.fit(x,y)\n",
    "    \n",
    "    def feature_importances(self,x,y):\n",
    "        return self.clf.fit(x,y).feature_importances_\n",
    "    \n",
    "    def score(self,x,y):\n",
    "        return self.clf.score(x,y)\n",
    "    \n",
    "    def predict_proba(self,x):\n",
    "        return self.clf.predict_proba(x)\n",
    "    "
   ]
  },
  {
   "cell_type": "code",
   "execution_count": 42,
   "metadata": {},
   "outputs": [],
   "source": [
    "# Libraries to apply the ML models\n",
    "from sklearn.ensemble import (AdaBoostClassifier, \n",
    "                              GradientBoostingClassifier, \n",
    "                              ExtraTreesClassifier,\n",
    "                              RandomForestClassifier)\n",
    "from sklearn.linear_model import LogisticRegression\n",
    "from sklearn.svm import SVC, LinearSVC\n",
    "from sklearn.neighbors import KNeighborsClassifier\n",
    "from sklearn.naive_bayes import GaussianNB\n",
    "from sklearn.linear_model import Perceptron\n",
    "from sklearn.linear_model import SGDClassifier\n",
    "from sklearn.tree import DecisionTreeClassifier"
   ]
  },
  {
   "cell_type": "code",
   "execution_count": 43,
   "metadata": {},
   "outputs": [],
   "source": [
    "modelos = [{'name': 'logreg',\n",
    "            'model': LogisticRegression},\n",
    "           {'name': 'etree',\n",
    "            'model': ExtraTreesClassifier},\n",
    "           {'name': 'gradboost',\n",
    "             'model': GradientBoostingClassifier}, \n",
    "           {'name': 'adaboost',\n",
    "             'model': AdaBoostClassifier},\n",
    "           {'name': 'SVC',\n",
    "            'model': SVC},\n",
    "           {'name': 'KNN',\n",
    "            'model': KNeighborsClassifier},\n",
    "           {'name': 'GaussianNB',\n",
    "            'model': GaussianNB},\n",
    "           {'name': 'Perceptron',\n",
    "            'model': Perceptron},\n",
    "           {'name': 'LinearSVC',\n",
    "            'model': LinearSVC},\n",
    "           {'name': 'SGD',\n",
    "            'model': SGDClassifier},\n",
    "           {'name': 'Dtree',\n",
    "            'model': DecisionTreeClassifier},\n",
    "           {'name': 'RForest',\n",
    "            'model': RandomForestClassifier}\n",
    "          ]"
   ]
  },
  {
   "cell_type": "markdown",
   "metadata": {},
   "source": [
    "### Fitting one dataset for all models to check the best ones"
   ]
  },
  {
   "cell_type": "code",
   "execution_count": 44,
   "metadata": {},
   "outputs": [
    {
     "name": "stderr",
     "output_type": "stream",
     "text": [
      "C:\\Users\\Bruno\\Anaconda3\\lib\\site-packages\\sklearn\\linear_model\\_logistic.py:940: ConvergenceWarning: lbfgs failed to converge (status=1):\n",
      "STOP: TOTAL NO. of ITERATIONS REACHED LIMIT.\n",
      "\n",
      "Increase the number of iterations (max_iter) or scale the data as shown in:\n",
      "    https://scikit-learn.org/stable/modules/preprocessing.html\n",
      "Please also refer to the documentation for alternative solver options:\n",
      "    https://scikit-learn.org/stable/modules/linear_model.html#logistic-regression\n",
      "  extra_warning_msg=_LOGISTIC_SOLVER_CONVERGENCE_MSG)\n",
      "C:\\Users\\Bruno\\Anaconda3\\lib\\site-packages\\sklearn\\svm\\_base.py:947: ConvergenceWarning: Liblinear failed to converge, increase the number of iterations.\n",
      "  \"the number of iterations.\", ConvergenceWarning)\n"
     ]
    }
   ],
   "source": [
    "results = []\n",
    "for model in modelos:\n",
    "    x = AuxiliarModel(clf=model['model'])\n",
    "    # train the o model\n",
    "    x.fit(X_train, y_train)\n",
    "    \n",
    "    # generate predictions\n",
    "    x_pred = x.predict(X_test)\n",
    "    \n",
    "    # generate score\n",
    "    accuracy = round(x.score(X_test,y_test)*100,2)\n",
    "    \n",
    "    name_model = re.findall(r\"^\\w+\",str(x.clf))\n",
    "  \n",
    "    # features importance\n",
    "        \n",
    "    if name_model[0] in ['ExtraTreesClassifier', 'GradientBoostingClassifier', 'AdaBoostClassifier', \n",
    "                          'DecisionTreeClassifier', 'RandomForestClassifier']:\n",
    "        \n",
    "        imp_features = x.feature_importances(X_train, y_train)\n",
    "    else:\n",
    "        imp_features = 'N/A'\n",
    "    \n",
    "    results.append({'name': model['name'],\n",
    "                     'model': model['model'],\n",
    "                       'score': accuracy,\n",
    "                       'pred': x_pred,\n",
    "                       'features_importance': imp_features})"
   ]
  },
  {
   "cell_type": "markdown",
   "metadata": {},
   "source": [
    "### Creating dataframe with results"
   ]
  },
  {
   "cell_type": "markdown",
   "metadata": {},
   "source": [
    "- The dataframe contains the name of the model, the $R^2$ score for each model, predicted values for each model and the importance of features for the models (for models with this feature available)."
   ]
  },
  {
   "cell_type": "code",
   "execution_count": 45,
   "metadata": {},
   "outputs": [],
   "source": [
    "models = pd.DataFrame(results)"
   ]
  },
  {
   "cell_type": "markdown",
   "metadata": {},
   "source": [
    "### Comparing the results among the models"
   ]
  },
  {
   "cell_type": "markdown",
   "metadata": {},
   "source": [
    "- Returns the coefficient of determination $R^2$ of the prediction by using the score method of each model."
   ]
  },
  {
   "cell_type": "code",
   "execution_count": 46,
   "metadata": {},
   "outputs": [
    {
     "data": {
      "text/html": [
       "<div>\n",
       "<style scoped>\n",
       "    .dataframe tbody tr th:only-of-type {\n",
       "        vertical-align: middle;\n",
       "    }\n",
       "\n",
       "    .dataframe tbody tr th {\n",
       "        vertical-align: top;\n",
       "    }\n",
       "\n",
       "    .dataframe thead th {\n",
       "        text-align: right;\n",
       "    }\n",
       "</style>\n",
       "<table border=\"1\" class=\"dataframe\">\n",
       "  <thead>\n",
       "    <tr style=\"text-align: right;\">\n",
       "      <th></th>\n",
       "      <th>name</th>\n",
       "      <th>score</th>\n",
       "    </tr>\n",
       "  </thead>\n",
       "  <tbody>\n",
       "    <tr>\n",
       "      <th>11</th>\n",
       "      <td>RForest</td>\n",
       "      <td>83.21</td>\n",
       "    </tr>\n",
       "    <tr>\n",
       "      <th>1</th>\n",
       "      <td>etree</td>\n",
       "      <td>82.77</td>\n",
       "    </tr>\n",
       "    <tr>\n",
       "      <th>10</th>\n",
       "      <td>Dtree</td>\n",
       "      <td>79.00</td>\n",
       "    </tr>\n",
       "    <tr>\n",
       "      <th>2</th>\n",
       "      <td>gradboost</td>\n",
       "      <td>77.37</td>\n",
       "    </tr>\n",
       "    <tr>\n",
       "      <th>3</th>\n",
       "      <td>adaboost</td>\n",
       "      <td>76.10</td>\n",
       "    </tr>\n",
       "    <tr>\n",
       "      <th>8</th>\n",
       "      <td>LinearSVC</td>\n",
       "      <td>73.25</td>\n",
       "    </tr>\n",
       "    <tr>\n",
       "      <th>5</th>\n",
       "      <td>KNN</td>\n",
       "      <td>72.89</td>\n",
       "    </tr>\n",
       "    <tr>\n",
       "      <th>0</th>\n",
       "      <td>logreg</td>\n",
       "      <td>71.63</td>\n",
       "    </tr>\n",
       "    <tr>\n",
       "      <th>4</th>\n",
       "      <td>SVC</td>\n",
       "      <td>62.10</td>\n",
       "    </tr>\n",
       "    <tr>\n",
       "      <th>7</th>\n",
       "      <td>Perceptron</td>\n",
       "      <td>60.26</td>\n",
       "    </tr>\n",
       "    <tr>\n",
       "      <th>6</th>\n",
       "      <td>GaussianNB</td>\n",
       "      <td>59.75</td>\n",
       "    </tr>\n",
       "    <tr>\n",
       "      <th>9</th>\n",
       "      <td>SGD</td>\n",
       "      <td>54.97</td>\n",
       "    </tr>\n",
       "  </tbody>\n",
       "</table>\n",
       "</div>"
      ],
      "text/plain": [
       "          name  score\n",
       "11     RForest  83.21\n",
       "1        etree  82.77\n",
       "10       Dtree  79.00\n",
       "2    gradboost  77.37\n",
       "3     adaboost  76.10\n",
       "8    LinearSVC  73.25\n",
       "5          KNN  72.89\n",
       "0       logreg  71.63\n",
       "4          SVC  62.10\n",
       "7   Perceptron  60.26\n",
       "6   GaussianNB  59.75\n",
       "9          SGD  54.97"
      ]
     },
     "execution_count": 46,
     "metadata": {},
     "output_type": "execute_result"
    }
   ],
   "source": [
    "models[['name','score']].sort_values(by='score', ascending=False)"
   ]
  },
  {
   "cell_type": "markdown",
   "metadata": {},
   "source": [
    "- Defining the **two best scores** from database dataframe into new variables."
   ]
  },
  {
   "cell_type": "code",
   "execution_count": 47,
   "metadata": {},
   "outputs": [],
   "source": [
    "best_1 = models.sort_values(by='score', ascending=False).iloc[0]\n",
    "best_2 = models.sort_values(by='score', ascending=False).iloc[1]"
   ]
  },
  {
   "cell_type": "markdown",
   "metadata": {},
   "source": [
    "### Feature Importance"
   ]
  },
  {
   "cell_type": "markdown",
   "metadata": {},
   "source": [
    "- Collecting **features values** from database based on the two best variables."
   ]
  },
  {
   "cell_type": "code",
   "execution_count": 48,
   "metadata": {},
   "outputs": [],
   "source": [
    "best_1_features = best_1['features_importance']\n",
    "best_2_features = best_2['features_importance']"
   ]
  },
  {
   "cell_type": "markdown",
   "metadata": {},
   "source": [
    "- Creating a dataframe from feature importance values collected from database **to plot** the results."
   ]
  },
  {
   "cell_type": "code",
   "execution_count": 49,
   "metadata": {},
   "outputs": [],
   "source": [
    "cols = X_train.columns.values\n",
    "\n",
    "feature_dataframe = pd.DataFrame({'Feature': cols, \n",
    "                                  # Transforming data into percentage of importance of each feature.\n",
    "                                  'Feature Importance ({})'.format(best_1['name']): best_1_features*100.00,\n",
    "                                  'Feature Importance ({})'.format(best_2['name']): best_2_features*100.00}) "
   ]
  },
  {
   "cell_type": "code",
   "execution_count": 50,
   "metadata": {},
   "outputs": [
    {
     "data": {
      "text/html": [
       "<div>\n",
       "<style scoped>\n",
       "    .dataframe tbody tr th:only-of-type {\n",
       "        vertical-align: middle;\n",
       "    }\n",
       "\n",
       "    .dataframe tbody tr th {\n",
       "        vertical-align: top;\n",
       "    }\n",
       "\n",
       "    .dataframe thead th {\n",
       "        text-align: right;\n",
       "    }\n",
       "</style>\n",
       "<table border=\"1\" class=\"dataframe\">\n",
       "  <thead>\n",
       "    <tr style=\"text-align: right;\">\n",
       "      <th></th>\n",
       "      <th>Feature</th>\n",
       "      <th>Feature Importance (RForest)</th>\n",
       "      <th>Feature Importance (etree)</th>\n",
       "    </tr>\n",
       "  </thead>\n",
       "  <tbody>\n",
       "    <tr>\n",
       "      <th>0</th>\n",
       "      <td>lead_time</td>\n",
       "      <td>18.877629</td>\n",
       "      <td>16.738832</td>\n",
       "    </tr>\n",
       "    <tr>\n",
       "      <th>1</th>\n",
       "      <td>arrival_date_year</td>\n",
       "      <td>2.442407</td>\n",
       "      <td>2.210471</td>\n",
       "    </tr>\n",
       "    <tr>\n",
       "      <th>2</th>\n",
       "      <td>arrival_date_month</td>\n",
       "      <td>3.841920</td>\n",
       "      <td>3.948413</td>\n",
       "    </tr>\n",
       "    <tr>\n",
       "      <th>3</th>\n",
       "      <td>arrival_date_week_number</td>\n",
       "      <td>7.089121</td>\n",
       "      <td>6.419333</td>\n",
       "    </tr>\n",
       "    <tr>\n",
       "      <th>4</th>\n",
       "      <td>arrival_date_day_of_month</td>\n",
       "      <td>8.684372</td>\n",
       "      <td>8.315070</td>\n",
       "    </tr>\n",
       "    <tr>\n",
       "      <th>5</th>\n",
       "      <td>stays_in_weekend_nights</td>\n",
       "      <td>3.300879</td>\n",
       "      <td>4.183885</td>\n",
       "    </tr>\n",
       "    <tr>\n",
       "      <th>6</th>\n",
       "      <td>stays_in_week_nights</td>\n",
       "      <td>5.182578</td>\n",
       "      <td>6.541238</td>\n",
       "    </tr>\n",
       "    <tr>\n",
       "      <th>7</th>\n",
       "      <td>adults</td>\n",
       "      <td>1.966501</td>\n",
       "      <td>2.449256</td>\n",
       "    </tr>\n",
       "    <tr>\n",
       "      <th>8</th>\n",
       "      <td>children</td>\n",
       "      <td>1.015976</td>\n",
       "      <td>1.061810</td>\n",
       "    </tr>\n",
       "    <tr>\n",
       "      <th>9</th>\n",
       "      <td>babies</td>\n",
       "      <td>0.134913</td>\n",
       "      <td>0.188922</td>\n",
       "    </tr>\n",
       "    <tr>\n",
       "      <th>10</th>\n",
       "      <td>is_repeated_guest</td>\n",
       "      <td>0.322440</td>\n",
       "      <td>0.770290</td>\n",
       "    </tr>\n",
       "    <tr>\n",
       "      <th>11</th>\n",
       "      <td>previous_cancellations</td>\n",
       "      <td>3.586454</td>\n",
       "      <td>3.211250</td>\n",
       "    </tr>\n",
       "    <tr>\n",
       "      <th>12</th>\n",
       "      <td>previous_bookings_not_canceled</td>\n",
       "      <td>0.617146</td>\n",
       "      <td>0.302348</td>\n",
       "    </tr>\n",
       "    <tr>\n",
       "      <th>13</th>\n",
       "      <td>booking_changes</td>\n",
       "      <td>2.802048</td>\n",
       "      <td>3.036726</td>\n",
       "    </tr>\n",
       "    <tr>\n",
       "      <th>14</th>\n",
       "      <td>deposit_type</td>\n",
       "      <td>13.168022</td>\n",
       "      <td>16.109726</td>\n",
       "    </tr>\n",
       "    <tr>\n",
       "      <th>15</th>\n",
       "      <td>days_in_waiting_list</td>\n",
       "      <td>0.335718</td>\n",
       "      <td>0.391272</td>\n",
       "    </tr>\n",
       "    <tr>\n",
       "      <th>16</th>\n",
       "      <td>customer_type</td>\n",
       "      <td>3.231967</td>\n",
       "      <td>2.727449</td>\n",
       "    </tr>\n",
       "    <tr>\n",
       "      <th>17</th>\n",
       "      <td>adr</td>\n",
       "      <td>14.317784</td>\n",
       "      <td>12.528057</td>\n",
       "    </tr>\n",
       "    <tr>\n",
       "      <th>18</th>\n",
       "      <td>required_car_parking_spaces</td>\n",
       "      <td>3.008386</td>\n",
       "      <td>3.279171</td>\n",
       "    </tr>\n",
       "    <tr>\n",
       "      <th>19</th>\n",
       "      <td>total_of_special_requests</td>\n",
       "      <td>6.073739</td>\n",
       "      <td>5.586479</td>\n",
       "    </tr>\n",
       "  </tbody>\n",
       "</table>\n",
       "</div>"
      ],
      "text/plain": [
       "                           Feature  Feature Importance (RForest)  \\\n",
       "0                        lead_time                     18.877629   \n",
       "1                arrival_date_year                      2.442407   \n",
       "2               arrival_date_month                      3.841920   \n",
       "3         arrival_date_week_number                      7.089121   \n",
       "4        arrival_date_day_of_month                      8.684372   \n",
       "5          stays_in_weekend_nights                      3.300879   \n",
       "6             stays_in_week_nights                      5.182578   \n",
       "7                           adults                      1.966501   \n",
       "8                         children                      1.015976   \n",
       "9                           babies                      0.134913   \n",
       "10               is_repeated_guest                      0.322440   \n",
       "11          previous_cancellations                      3.586454   \n",
       "12  previous_bookings_not_canceled                      0.617146   \n",
       "13                 booking_changes                      2.802048   \n",
       "14                    deposit_type                     13.168022   \n",
       "15            days_in_waiting_list                      0.335718   \n",
       "16                   customer_type                      3.231967   \n",
       "17                             adr                     14.317784   \n",
       "18     required_car_parking_spaces                      3.008386   \n",
       "19       total_of_special_requests                      6.073739   \n",
       "\n",
       "    Feature Importance (etree)  \n",
       "0                    16.738832  \n",
       "1                     2.210471  \n",
       "2                     3.948413  \n",
       "3                     6.419333  \n",
       "4                     8.315070  \n",
       "5                     4.183885  \n",
       "6                     6.541238  \n",
       "7                     2.449256  \n",
       "8                     1.061810  \n",
       "9                     0.188922  \n",
       "10                    0.770290  \n",
       "11                    3.211250  \n",
       "12                    0.302348  \n",
       "13                    3.036726  \n",
       "14                   16.109726  \n",
       "15                    0.391272  \n",
       "16                    2.727449  \n",
       "17                   12.528057  \n",
       "18                    3.279171  \n",
       "19                    5.586479  "
      ]
     },
     "execution_count": 50,
     "metadata": {},
     "output_type": "execute_result"
    }
   ],
   "source": [
    "feature_dataframe"
   ]
  },
  {
   "cell_type": "markdown",
   "metadata": {},
   "source": [
    "- Collecting **the 10 best features** to plot for each model (Total features is 20 variables)."
   ]
  },
  {
   "cell_type": "code",
   "execution_count": 51,
   "metadata": {},
   "outputs": [],
   "source": [
    "best_1_top10 = feature_dataframe[['Feature','Feature Importance ({})'.format(best_1['name'])]].\\\n",
    "sort_values(by='Feature Importance ({})'.format(best_1['name']), ascending=False).head(10)\n",
    "\n",
    "best_2_top10 = feature_dataframe[['Feature','Feature Importance ({})'.format(best_2['name'])]].\\\n",
    "sort_values(by='Feature Importance ({})'.format(best_2['name']), ascending=False).head(10)"
   ]
  },
  {
   "cell_type": "markdown",
   "metadata": {},
   "source": [
    "- Plotting the **feature importance** of the **two best models**."
   ]
  },
  {
   "cell_type": "code",
   "execution_count": 52,
   "metadata": {},
   "outputs": [
    {
     "data": {
      "image/png": "[encoded data removed]",
      "text/plain": [
       "<Figure size 576x576 with 2 Axes>"
      ]
     },
     "metadata": {
      "needs_background": "light"
     },
     "output_type": "display_data"
    }
   ],
   "source": [
    "fig, (ax1, ax2) = plt.subplots(nrows=2,ncols=1,constrained_layout=True)\n",
    "fig.suptitle('Top 10 - Feature Importance', fontsize=16)\n",
    "fig.set_figheight(8)\n",
    "fig.set_figwidth(8)\n",
    "\n",
    "# Best model 1\n",
    "\n",
    "ax1.set_title('Model: {}'.format(best_1['name']))\n",
    "sns.set_color_codes(\"pastel\")\n",
    "sns.barplot(x=\"Feature Importance ({})\".format(best_1['name']), y=\"Feature\", data=best_1_top10, color=\"orange\", ax=ax1)\n",
    "\n",
    "\n",
    "# Best model 2\n",
    "\n",
    "ax2.set_title('Model: {}'.format(best_2['name']))\n",
    "sns.set_color_codes(\"pastel\")\n",
    "sns.barplot(x=\"Feature Importance ({})\".format(best_2['name']), y=\"Feature\", data=best_2_top10, color=\"orange\", ax=ax2)\n",
    "\n",
    "plt.savefig(path + 'Figures/booking_feature_importance.png')\n",
    "plt.show()"
   ]
  },
  {
   "cell_type": "markdown",
   "metadata": {},
   "source": [
    "### Confusion Matrix"
   ]
  },
  {
   "cell_type": "code",
   "execution_count": 53,
   "metadata": {},
   "outputs": [],
   "source": [
    "# Library to work with Confusion Matrix\n",
    "from sklearn.metrics import confusion_matrix\n",
    "from sklearn.metrics import (recall_score,\n",
    "                             accuracy_score,\n",
    "                             precision_score,\n",
    "                             f1_score)"
   ]
  },
  {
   "cell_type": "markdown",
   "metadata": {},
   "source": [
    "- Collecting predictive values to use with **Confusion Matrix** of the **two best models**."
   ]
  },
  {
   "cell_type": "code",
   "execution_count": 54,
   "metadata": {},
   "outputs": [],
   "source": [
    "best_1_pred = best_1['pred']\n",
    "best_2_pred = best_2['pred']"
   ]
  },
  {
   "cell_type": "markdown",
   "metadata": {},
   "source": [
    "- Plotting the **confusion matrix** data."
   ]
  },
  {
   "cell_type": "code",
   "execution_count": 55,
   "metadata": {},
   "outputs": [
    {
     "data": {
      "image/png": "[encoded data removed]",
      "text/plain": [
       "<Figure size 720x360 with 4 Axes>"
      ]
     },
     "metadata": {
      "needs_background": "light"
     },
     "output_type": "display_data"
    }
   ],
   "source": [
    "fig, (ax1, ax2) = plt.subplots(nrows=1,ncols=2,constrained_layout=True)\n",
    "fig.suptitle('Confusion Matrix', fontsize=16)\n",
    "fig.set_figheight(5)\n",
    "fig.set_figwidth(10)\n",
    "\n",
    "# Best 1 plot\n",
    "\n",
    "sns.heatmap(confusion_matrix(y_test, best_1_pred), cmap='Oranges', annot=True, fmt='2.0f', ax=ax1)\n",
    "ax1.set_title('Model: {}'.format(best_1['name']))\n",
    "ax1.set_ylabel('F O R E S E E N')\n",
    "ax1.set_xlabel('R E A L')\n",
    "\n",
    "# Best 2 plot\n",
    "\n",
    "sns.heatmap(confusion_matrix(y_test, best_2_pred), cmap='Oranges', annot=True, fmt='2.0f', ax=ax2)\n",
    "ax2.set_title('Model: {}'.format(best_2['name']))\n",
    "ax2.set_ylabel('F O R E S E E N')\n",
    "ax2.set_xlabel('R E A L')\n",
    "\n",
    "plt.savefig(path + 'Figures/booking_confusion_matrix.png')\n",
    "plt.show()"
   ]
  },
  {
   "cell_type": "markdown",
   "metadata": {},
   "source": [
    "### Evaluating Confusion Matrix"
   ]
  },
  {
   "cell_type": "markdown",
   "metadata": {},
   "source": [
    "- Calculating **precision**, **recall**, **accuracy** and **F1 scores** of the **two best models**."
   ]
  },
  {
   "cell_type": "code",
   "execution_count": 56,
   "metadata": {},
   "outputs": [],
   "source": [
    "# Precision\n",
    "\n",
    "p_score_1 = precision_score(y_test,best_1_pred)\n",
    "p_score_2 = precision_score(y_test,best_2_pred)\n",
    "\n",
    "# Recall\n",
    "\n",
    "r_score_1 = recall_score(y_test,best_1_pred)\n",
    "r_score_2 = recall_score(y_test,best_2_pred)\n",
    "\n",
    "# Accuracy\n",
    "\n",
    "a_score_1 = accuracy_score(y_test,best_1_pred)\n",
    "a_score_2 = accuracy_score(y_test,best_2_pred)\n",
    "\n",
    "# F1 Score\n",
    "\n",
    "f_score_1 = f1_score(y_test,best_1_pred)\n",
    "f_score_2 = f1_score(y_test,best_2_pred)"
   ]
  },
  {
   "cell_type": "markdown",
   "metadata": {},
   "source": [
    "- Creating dataframe with the **precision**, **recall**, **accuracy** and **F1 scores** of the **two best models**."
   ]
  },
  {
   "cell_type": "code",
   "execution_count": 57,
   "metadata": {},
   "outputs": [],
   "source": [
    "score_results = {'model':['{}'.format(best_1['name']), '{}'.format(best_2['name'])],\n",
    "                     'precision':[p_score_1, p_score_2],\n",
    "                     'recall': [r_score_1, r_score_2],\n",
    "                     'accuracy': [a_score_1, a_score_2],\n",
    "                     'f1_score': [f_score_1, f_score_2]}"
   ]
  },
  {
   "cell_type": "code",
   "execution_count": 58,
   "metadata": {},
   "outputs": [],
   "source": [
    "confusion_matrix = pd.DataFrame(score_results)"
   ]
  },
  {
   "cell_type": "markdown",
   "metadata": {},
   "source": [
    "- Showing **precision**, **recall**, **accuracy** and **F1 scores** results of the **two best models**."
   ]
  },
  {
   "cell_type": "code",
   "execution_count": 59,
   "metadata": {},
   "outputs": [
    {
     "data": {
      "text/html": [
       "<div>\n",
       "<style scoped>\n",
       "    .dataframe tbody tr th:only-of-type {\n",
       "        vertical-align: middle;\n",
       "    }\n",
       "\n",
       "    .dataframe tbody tr th {\n",
       "        vertical-align: top;\n",
       "    }\n",
       "\n",
       "    .dataframe thead th {\n",
       "        text-align: right;\n",
       "    }\n",
       "</style>\n",
       "<table border=\"1\" class=\"dataframe\">\n",
       "  <thead>\n",
       "    <tr style=\"text-align: right;\">\n",
       "      <th></th>\n",
       "      <th>model</th>\n",
       "      <th>precision</th>\n",
       "      <th>recall</th>\n",
       "      <th>accuracy</th>\n",
       "      <th>f1_score</th>\n",
       "    </tr>\n",
       "  </thead>\n",
       "  <tbody>\n",
       "    <tr>\n",
       "      <th>0</th>\n",
       "      <td>RForest</td>\n",
       "      <td>0.848819</td>\n",
       "      <td>0.801594</td>\n",
       "      <td>0.832076</td>\n",
       "      <td>0.824531</td>\n",
       "    </tr>\n",
       "    <tr>\n",
       "      <th>1</th>\n",
       "      <td>etree</td>\n",
       "      <td>0.840790</td>\n",
       "      <td>0.801670</td>\n",
       "      <td>0.827667</td>\n",
       "      <td>0.820764</td>\n",
       "    </tr>\n",
       "  </tbody>\n",
       "</table>\n",
       "</div>"
      ],
      "text/plain": [
       "     model  precision    recall  accuracy  f1_score\n",
       "0  RForest   0.848819  0.801594  0.832076  0.824531\n",
       "1    etree   0.840790  0.801670  0.827667  0.820764"
      ]
     },
     "execution_count": 59,
     "metadata": {},
     "output_type": "execute_result"
    }
   ],
   "source": [
    "confusion_matrix"
   ]
  }
 ],
 "metadata": {
  "kernelspec": {
   "display_name": "Python 3",
   "language": "python",
   "name": "python3"
  },
  "language_info": {
   "codemirror_mode": {
    "name": "ipython",
    "version": 3
   },
   "file_extension": ".py",
   "mimetype": "text/x-python",
   "name": "python",
   "nbconvert_exporter": "python",
   "pygments_lexer": "ipython3",
   "version": "3.7.6"
  }
 },
 "nbformat": 4,
 "nbformat_minor": 4
}
